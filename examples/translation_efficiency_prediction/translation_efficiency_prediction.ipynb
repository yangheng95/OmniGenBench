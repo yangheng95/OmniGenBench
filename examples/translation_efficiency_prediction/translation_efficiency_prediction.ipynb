{
 "cells": [
  {
   "metadata": {},
   "cell_type": "markdown",
   "source": [
    "# Translation Efficiency Prediction with OmniGenBench\n",
    "\n",
    "This notebook demonstrates how to fine-tune a Genomic Foundation Model (GFM) to predict Rice translation efficiency (TE) from mRNA sequences using OmniGenBench. The example focusing on plant RNA translation efficiency.\n",
    "\n",
    "**Background (PlantRNA-FM):**\n",
    "PlantRNA-FM (\"An interpretable RNA foundation model for exploring functional RNA motifs in plants\") introduces an RNA foundation model tailored to plant genomics, highlighting interpretability and motif discovery capabilities. TE prediction is a representative downstream task where models learn sequence determinants associated with efficient translation. In this demo, we use a small rice 5'UTR/mRNA TE dataset to illustrate fine-tuning and evaluation within OmniGenBench.\n",
    "\n",
    "- **Task type**: Binary sequence classification (High-TE vs Low-TE)\n",
    "- **Input**: RNA sequences (string), up to a configurable `max_length`\n",
    "- **Label space**: {0: Low-TE, 1: High-TE}\n",
    "\n",
    "**Estimated runtime:** On a single NVIDIA RTX 4090, a short training run on this toy dataset typically takes ~10–30 minutes depending on epochs/model size.\n",
    "\n",
    "##  Notebook Structure\n",
    " **Setup & Installation**: Install optional dependencies.\n",
    "2. **Import Libraries**: Load Python packages and local utilities.\n",
    "3. **Configuration & Data**: Choose a model, set hyperparameters, and point to dataset files.\n",
    "4. **Main Analysis Pipeline**: Run training/evaluation with `utils.run_training`.\n",
    "5. **Results Overview**: Summarize validation/test metrics.\n",
    "6. **Visualization**: Plot validation metrics across epochs.\n",
    "7. **References**: Link to PlantRNA-FM."
   ],
   "id": "37f815534558f161"
  },
  {
   "metadata": {},
   "cell_type": "markdown",
   "source": [
    "## 1. Setup & Installation\n",
    "\n",
    "This section handles the initial setup, including installing necessary packages. If dependencies are already available, you can skip the installation cell.\n",
    "\n",
    "### Install Dependencies\n",
    "Uncomment and run the following cell to install the required packages."
   ],
   "id": "9ceb2a8181e7820e"
  },
  {
   "metadata": {
    "ExecuteTime": {
     "end_time": "2025-08-16T14:20:46.835110Z",
     "start_time": "2025-08-16T14:20:46.831216Z"
    }
   },
   "cell_type": "code",
   "source": [
    "# Optional: install dependencies if not available\n",
    "# !pip install torch transformers pandas autocuda multimolecule biopython scipy scikit-learn tqdm dill findfile requests omnigenbench\n"
   ],
   "id": "2fdadda994b56c9c",
   "outputs": [],
   "execution_count": 1
  },
  {
   "metadata": {},
   "cell_type": "markdown",
   "source": [
    "## 2. Import Libraries\n",
    "Import all necessary libraries for data processing, model training, and analysis."
   ],
   "id": "368aae70b71a4b9b"
  },
  {
   "metadata": {
    "ExecuteTime": {
     "end_time": "2025-08-16T14:20:54.036068Z",
     "start_time": "2025-08-16T14:20:46.863192Z"
    }
   },
   "cell_type": "code",
   "source": [
    "import warnings\n",
    "import importlib\n",
    "import matplotlib.pyplot as plt\n",
    "import seaborn as sns\n",
    "import pandas as pd\n",
    "import torch\n",
    "from autocuda import auto_cuda\n",
    "\n",
    "# Import utilities from the local utils.py file\n",
    "utils_spec = importlib.util.spec_from_file_location(\"utils\", \"utils.py\")\n",
    "utils = importlib.util.module_from_spec(utils_spec)\n",
    "utils_spec.loader.exec_module(utils)\n",
    "\n",
    "warnings.filterwarnings('ignore')\n",
    "print(\"Libraries imported successfully!\")\n"
   ],
   "id": "d0014e45e882422d",
   "outputs": [
    {
     "name": "stderr",
     "output_type": "stream",
     "text": [
      "C:\\Users\\hengu\\miniconda3\\envs\\py312\\Lib\\site-packages\\requests\\__init__.py:86: RequestsDependencyWarning: Unable to find acceptable character detection dependency (chardet or charset_normalizer).\n",
      "  warnings.warn(\n"
     ]
    },
    {
     "name": "stdout",
     "output_type": "stream",
     "text": [
      "\n",
      "    **@@ #========= @@**            ___                     _\n",
      "      **@@ +----- @@**             / _ \\  _ __ ___   _ __  (_)\n",
      "        **@@ = @@**               | | | || '_ ` _ \\ | '_ \\ | |\n",
      "           **@@                   | |_| || | | | | || | | || |\n",
      "        @@** = **@@                \\___/ |_| |_| |_||_| |_||_|\n",
      "     @@** ------+ **@@\n",
      "   @@** =========# **@@            ____\n",
      "  @@ ---------------+ @@          / ___|  ___  _ __\n",
      " @@ ================== @@        | |  _  / _ \\| '_ \\\n",
      "  @@ +--------------- @@         | |_| ||  __/| | | |\n",
      "   @@** #========= **@@           \\____| \\___||_| |_|\n",
      "    @@** +------ **@@\n",
      "       @@** = **@@\n",
      "          @@**                    ____                      _\n",
      "       **@@ = @@**               | __ )   ___  _ __    ___ | |__\n",
      "    **@@ -----+  @@**            |  _ \\  / _ \\| '_ \\  / __|| '_ \\\n",
      "  **@@ ==========# @@**          | |_) ||  __/| | | || (__ | | | |\n",
      "  @@ --------------+ @@**        |____/  \\___||_| |_| \\___||_| |_|\n",
      "\n",
      "Libraries imported successfully!\n"
     ]
    }
   ],
   "execution_count": 2
  },
  {
   "metadata": {},
   "cell_type": "markdown",
   "source": [
    "## 3. Configuration & Data\n",
    "\n",
    "Set up the analysis parameters, file paths, and model selection here. You can easily change the `MODEL_NAME` to test different GFMs.\n",
    "\n",
    "### Model Selection\n",
    "Choose the Genomic Foundation Model to fine-tune."
   ],
   "id": "59584089ed4d0003"
  },
  {
   "metadata": {
    "ExecuteTime": {
     "end_time": "2025-08-16T14:20:54.134259Z",
     "start_time": "2025-08-16T14:20:54.126263Z"
    }
   },
   "cell_type": "code",
   "source": [
    "# Using utils for reusable logic\n",
    "from utils import run_finetuning\n",
    "print(\"Core classes and functions imported from utils.\")\n",
    "\n",
    "# --- Available Models for Testing ---\n",
    "AVAILABLE_MODELS = [\n",
    "    # 'yangheng/OmniGenome-52M',\n",
    "    # 'yangheng/OmniGenome-186M',\n",
    "    'yangheng/OmniGenome-v1.5',\n",
    "]\n",
    "MODEL_NAME = AVAILABLE_MODELS[0]  # Model to use for predictions\n",
    "print(f\"Selected model: {MODEL_NAME}\")\n"
   ],
   "id": "547e026cafd913b5",
   "outputs": [
    {
     "name": "stdout",
     "output_type": "stream",
     "text": [
      "Core classes and functions imported from utils.\n",
      "Selected model: yangheng/OmniGenome-v1.5\n"
     ]
    }
   ],
   "execution_count": 3
  },
  {
   "metadata": {},
   "cell_type": "markdown",
   "source": [
    "### Hyperparameter and Dataset Configuration\n",
    "Define the training hyperparameters and paths to the dataset files."
   ],
   "id": "8a9859d376ae79da"
  },
  {
   "metadata": {
    "ExecuteTime": {
     "end_time": "2025-08-16T14:20:54.847279Z",
     "start_time": "2025-08-16T14:20:54.162808Z"
    }
   },
   "cell_type": "code",
   "source": [
    "import findfile\n",
    "\n",
    "# --- Training Hyperparameters ---\n",
    "EPOCHS = 10\n",
    "LEARNING_RATE = 2e-5\n",
    "WEIGHT_DECAY = 1e-5\n",
    "BATCH_SIZE = 4\n",
    "MAX_LENGTH = 1024\n",
    "SEED = 42\n",
    "\n",
    "# --- Dataset Configuration ---\n",
    "LOCAL_PATH = \"te_rice_dataset\"  # Local directory for the dataset\n",
    "from utils import download_te_dataset\n",
    "download_te_dataset(LOCAL_PATH)  # Download the VEP dataset if not already available\n",
    "\n",
    "# --- Dataset Configuration ---\n",
    "TRAIN_FILE = findfile.find_cwd_file(\"train.json\")  # training split\n",
    "VALID_FILE = findfile.find_cwd_file(\"valid.json\")  # validation split (optional)\n",
    "TEST_FILE = findfile.find_cwd_file(\"test.json\")  # test split\n",
    "# --- Label Mapping ---\n",
    "# The task is binary classification: 1 for TE, 0 for non-TE.\n",
    "LABEL2ID = {\"0\": 0, \"1\": 1}\n",
    "\n",
    "print(f\"Selected model: {MODEL_NAME}\")\n"
   ],
   "id": "e266997994ee0a88",
   "outputs": [
    {
     "name": "stdout",
     "output_type": "stream",
     "text": [
      "Downloading te_rice_dataset.zip from https://huggingface.co/datasets/yangheng/translation_efficiency_prediction/resolve/main/translation_efficiency_prediction.zip...\n",
      "Downloaded te_rice_dataset\\te_rice_dataset.zip\n",
      "Extracted te_rice_dataset.zip into te_rice_dataset\n",
      "Selected model: yangheng/OmniGenome-v1.5\n"
     ]
    }
   ],
   "execution_count": 4
  },
  {
   "metadata": {},
   "cell_type": "markdown",
   "source": [
    "## 4. Main Analysis Pipeline\n",
    "\n",
    "This section executes the training/evaluation pipeline using the configuration defined above. The `run_training` function from `examples/translation_efficiency_prediction/utils.py` orchestrates tokenization, dataset creation, training, and evaluation."
   ],
   "id": "e332d80578aba4ed"
  },
  {
   "metadata": {
    "ExecuteTime": {
     "end_time": "2025-08-16T14:58:45.232207Z",
     "start_time": "2025-08-16T14:20:54.855827Z"
    }
   },
   "cell_type": "code",
   "source": [
    "# Import main pipeline from utils for a concise demo\n",
    "from utils import run_finetuning\n",
    "\n",
    "print(\"Main analysis pipeline imported from utils.\")\n",
    "\n",
    "print(\"=\" * 50)\n",
    "\n",
    "# Run the analysis\n",
    "metrics = run_finetuning(\n",
    "\tmodel_name=MODEL_NAME,\n",
    "\ttrain_file=TRAIN_FILE,\n",
    "\tvalid_file=VALID_FILE,\n",
    "\ttest_file=TEST_FILE,\n",
    "\tlabel2id=LABEL2ID,\n",
    "\tepochs=EPOCHS,\n",
    "\tlearning_rate=LEARNING_RATE,\n",
    "\tweight_decay=WEIGHT_DECAY,\n",
    "\tbatch_size=BATCH_SIZE,\n",
    "\tmax_length=MAX_LENGTH,\n",
    "\tseed=SEED,\n",
    ")\n",
    "\n",
    "print(\"=\" * 50)\n",
    "print(\"Analysis completed!\")\n",
    "\n",
    "# Print final validation and test metrics (if available)\n",
    "if metrics.get('valid'):\n",
    "\tprint(\"\\nValidation Set Performance (last epoch):\")\n",
    "\tfor key, value in metrics['valid'][-1].items():\n",
    "\t\tprint(f\"{key}: {value:.4f}\")\n",
    "\n",
    "if metrics.get('test'):\n",
    "\tprint(\"\\nTest Set Performance (best checkpoint):\")\n",
    "\tfor key, value in metrics['test'][-1].items():\n",
    "\t\tprint(f\"{key}: {value:.4f}\")\n"
   ],
   "id": "ca6e91fa0cb64ec6",
   "outputs": [
    {
     "name": "stdout",
     "output_type": "stream",
     "text": [
      "Main analysis pipeline imported from utils.\n",
      "==================================================\n"
     ]
    },
    {
     "name": "stderr",
     "output_type": "stream",
     "text": [
      "Some weights of OmniGenomeModel were not initialized from the model checkpoint at yangheng/OmniGenome-v1.5 and are newly initialized: ['pooler.dense.bias', 'pooler.dense.weight']\n",
      "You should probably TRAIN this model on a down-stream task to be able to use it for predictions and inference.\n"
     ]
    },
    {
     "name": "stdout",
     "output_type": "stream",
     "text": [
      "[2025-08-16 15:20:56] [omnigenome 0.3.8alpha]  Model Name: OmniModelForSequenceClassification\n",
      "Model Metadata: {'library_name': 'omnigenbench', 'omnigenbench_version': '0.3.8alpha', 'torch_version': '2.7.0+cu128+cu12.8+git134179474539648ba7dee1317959529fbd0e7f89', 'transformers_version': '4.55.0', 'model_cls': 'OmniModelForSequenceClassification', 'tokenizer_cls': 'EsmTokenizer', 'model_name': 'OmniModelForSequenceClassification'}\n",
      "Base Model Name: yangheng/OmniGenome-v1.5\n",
      "Model Type: omnigenome\n",
      "Model Architecture: ['OmniGenomeForMaskedLM']\n",
      "Model Parameters: 185.886801 M\n",
      "Model Config: OmniGenomeConfig {\n",
      "  \"OmniGenomefold_config\": null,\n",
      "  \"architectures\": [\n",
      "    \"OmniGenomeForMaskedLM\"\n",
      "  ],\n",
      "  \"attention_probs_dropout_prob\": 0.0,\n",
      "  \"auto_map\": {\n",
      "    \"AutoConfig\": \"configuration_omnigenome.OmniGenomeConfig\",\n",
      "    \"AutoModel\": \"modeling_omnigenome.OmniGenomeModel\",\n",
      "    \"AutoModelForMaskedLM\": \"modeling_omnigenome.OmniGenomeForMaskedLM\",\n",
      "    \"AutoModelForSeq2SeqLM\": \"modeling_omnigenome.OmniGenomeForSeq2SeqLM\",\n",
      "    \"AutoModelForSequenceClassification\": \"modeling_omnigenome.OmniGenomeForSequenceClassification\",\n",
      "    \"AutoModelForTokenClassification\": \"modeling_omnigenome.OmniGenomeForTokenClassification\"\n",
      "  },\n",
      "  \"classifier_dropout\": null,\n",
      "  \"emb_layer_norm_before\": false,\n",
      "  \"hidden_act\": \"gelu\",\n",
      "  \"hidden_dropout_prob\": 0,\n",
      "  \"hidden_size\": 720,\n",
      "  \"id2label\": {\n",
      "    \"0\": \"0\",\n",
      "    \"1\": \"1\"\n",
      "  },\n",
      "  \"initializer_range\": 0.02,\n",
      "  \"intermediate_size\": 2560,\n",
      "  \"is_folding_model\": false,\n",
      "  \"label2id\": {\n",
      "    \"0\": 0,\n",
      "    \"1\": 1\n",
      "  },\n",
      "  \"layer_norm_eps\": 1e-05,\n",
      "  \"mask_token_id\": 23,\n",
      "  \"max_position_embeddings\": 1026,\n",
      "  \"model_type\": \"omnigenome\",\n",
      "  \"num_attention_heads\": 30,\n",
      "  \"num_generation\": 50,\n",
      "  \"num_hidden_layers\": 32,\n",
      "  \"num_population\": 100,\n",
      "  \"pad_token_id\": 1,\n",
      "  \"position_embedding_type\": \"rotary\",\n",
      "  \"token_dropout\": true,\n",
      "  \"torch_dtype\": \"float16\",\n",
      "  \"transformers_version\": \"4.55.0\",\n",
      "  \"use_cache\": true,\n",
      "  \"vocab_list\": null,\n",
      "  \"vocab_size\": 24\n",
      "}\n",
      "\n",
      "\n",
      "Model 'yangheng/OmniGenome-v1.5' and tokenizer loaded successfully.\n",
      "[2025-08-16 15:20:56] [omnigenome 0.3.8alpha]  Detected max_length=1024 in the dataset, using it as the max_length.\n",
      "[2025-08-16 15:20:56] [omnigenome 0.3.8alpha]  Loading data from te_rice_dataset\\train.json...\n",
      "[2025-08-16 15:20:56] [omnigenome 0.3.8alpha]  Loaded 4697 examples from te_rice_dataset\\train.json\n",
      "[2025-08-16 15:20:56] [omnigenome 0.3.8alpha]  Detected shuffle=True, shuffling the examples...\n"
     ]
    },
    {
     "name": "stderr",
     "output_type": "stream",
     "text": [
      "100%|██████████| 4697/4697 [00:09<00:00, 513.13it/s]\n"
     ]
    },
    {
     "name": "stdout",
     "output_type": "stream",
     "text": [
      "[2025-08-16 15:21:06] [omnigenome 0.3.8alpha]  \n",
      "Label Distribution:\n",
      "[2025-08-16 15:21:06] [omnigenome 0.3.8alpha]  ----------------------------------------\n",
      "[2025-08-16 15:21:06] [omnigenome 0.3.8alpha]  Label     \t\tCount     \t\tPercentage\n",
      "[2025-08-16 15:21:06] [omnigenome 0.3.8alpha]  ----------------------------------------\n",
      "[2025-08-16 15:21:06] [omnigenome 0.3.8alpha]  0         \t\t2195      \t\t46.73%\n",
      "[2025-08-16 15:21:06] [omnigenome 0.3.8alpha]  1         \t\t2502      \t\t53.27%\n",
      "[2025-08-16 15:21:06] [omnigenome 0.3.8alpha]  ----------------------------------------\n",
      "[2025-08-16 15:21:06] [omnigenome 0.3.8alpha]  Total samples: 4697\n",
      "[2025-08-16 15:21:06] [omnigenome 0.3.8alpha]  Max sequence length updated -> Reset max_length=504, label_padding_length=0\n",
      "[2025-08-16 15:21:06] [omnigenome 0.3.8alpha]  Detected max_length=1024 in the dataset, using it as the max_length.\n",
      "[2025-08-16 15:21:06] [omnigenome 0.3.8alpha]  Loading data from te_rice_dataset\\valid.json...\n",
      "[2025-08-16 15:21:06] [omnigenome 0.3.8alpha]  Loaded 587 examples from te_rice_dataset\\valid.json\n",
      "[2025-08-16 15:21:06] [omnigenome 0.3.8alpha]  Detected shuffle=True, shuffling the examples...\n"
     ]
    },
    {
     "name": "stderr",
     "output_type": "stream",
     "text": [
      "100%|██████████| 587/587 [00:01<00:00, 513.42it/s]\n"
     ]
    },
    {
     "name": "stdout",
     "output_type": "stream",
     "text": [
      "[2025-08-16 15:21:07] [omnigenome 0.3.8alpha]  \n",
      "Label Distribution:\n",
      "[2025-08-16 15:21:07] [omnigenome 0.3.8alpha]  ----------------------------------------\n",
      "[2025-08-16 15:21:07] [omnigenome 0.3.8alpha]  Label     \t\tCount     \t\tPercentage\n",
      "[2025-08-16 15:21:07] [omnigenome 0.3.8alpha]  ----------------------------------------\n",
      "[2025-08-16 15:21:07] [omnigenome 0.3.8alpha]  0         \t\t259       \t\t44.12%\n",
      "[2025-08-16 15:21:07] [omnigenome 0.3.8alpha]  1         \t\t328       \t\t55.88%\n",
      "[2025-08-16 15:21:07] [omnigenome 0.3.8alpha]  ----------------------------------------\n",
      "[2025-08-16 15:21:07] [omnigenome 0.3.8alpha]  Total samples: 587\n",
      "[2025-08-16 15:21:07] [omnigenome 0.3.8alpha]  Max sequence length updated -> Reset max_length=504, label_padding_length=0\n",
      "[2025-08-16 15:21:07] [omnigenome 0.3.8alpha]  Detected max_length=1024 in the dataset, using it as the max_length.\n",
      "[2025-08-16 15:21:07] [omnigenome 0.3.8alpha]  Loading data from te_rice_dataset\\test.json...\n",
      "[2025-08-16 15:21:07] [omnigenome 0.3.8alpha]  Loaded 588 examples from te_rice_dataset\\test.json\n",
      "[2025-08-16 15:21:07] [omnigenome 0.3.8alpha]  Detected shuffle=True, shuffling the examples...\n"
     ]
    },
    {
     "name": "stderr",
     "output_type": "stream",
     "text": [
      "100%|██████████| 588/588 [00:01<00:00, 513.69it/s]\n"
     ]
    },
    {
     "name": "stdout",
     "output_type": "stream",
     "text": [
      "[2025-08-16 15:21:08] [omnigenome 0.3.8alpha]  \n",
      "Label Distribution:\n",
      "[2025-08-16 15:21:08] [omnigenome 0.3.8alpha]  ----------------------------------------\n",
      "[2025-08-16 15:21:08] [omnigenome 0.3.8alpha]  Label     \t\tCount     \t\tPercentage\n",
      "[2025-08-16 15:21:08] [omnigenome 0.3.8alpha]  ----------------------------------------\n",
      "[2025-08-16 15:21:08] [omnigenome 0.3.8alpha]  0         \t\t258       \t\t43.88%\n",
      "[2025-08-16 15:21:08] [omnigenome 0.3.8alpha]  1         \t\t330       \t\t56.12%\n",
      "[2025-08-16 15:21:08] [omnigenome 0.3.8alpha]  ----------------------------------------\n",
      "[2025-08-16 15:21:08] [omnigenome 0.3.8alpha]  Total samples: 588\n",
      "[2025-08-16 15:21:08] [omnigenome 0.3.8alpha]  Max sequence length updated -> Reset max_length=504, label_padding_length=0\n",
      "Datasets and DataLoaders created.\n"
     ]
    },
    {
     "name": "stderr",
     "output_type": "stream",
     "text": [
      "Evaluating: 100%|██████████| 147/147 [00:09<00:00, 15.66it/s]\n"
     ]
    },
    {
     "name": "stdout",
     "output_type": "stream",
     "text": [
      "[2025-08-16 15:21:18] [omnigenome 0.3.8alpha]  {'f1_score': 0.45696243262810715}\n"
     ]
    },
    {
     "name": "stderr",
     "output_type": "stream",
     "text": [
      "Epoch 1/10 Loss: 0.6084: 100%|██████████| 1175/1175 [03:31<00:00,  5.57it/s]\n",
      "Evaluating: 100%|██████████| 147/147 [00:08<00:00, 16.89it/s]\n"
     ]
    },
    {
     "name": "stdout",
     "output_type": "stream",
     "text": [
      "[2025-08-16 15:24:58] [omnigenome 0.3.8alpha]  {'f1_score': 0.7333977002367138}\n"
     ]
    },
    {
     "name": "stderr",
     "output_type": "stream",
     "text": [
      "Epoch 2/10 Loss: 0.5603: 100%|██████████| 1175/1175 [03:23<00:00,  5.78it/s]\n",
      "Evaluating: 100%|██████████| 147/147 [00:08<00:00, 16.37it/s]\n"
     ]
    },
    {
     "name": "stdout",
     "output_type": "stream",
     "text": [
      "[2025-08-16 15:28:33] [omnigenome 0.3.8alpha]  {'f1_score': 0.7335916771400642}\n"
     ]
    },
    {
     "name": "stderr",
     "output_type": "stream",
     "text": [
      "Epoch 3/10 Loss: 0.5076: 100%|██████████| 1175/1175 [03:28<00:00,  5.64it/s]\n",
      "Evaluating: 100%|██████████| 147/147 [00:08<00:00, 16.67it/s]\n"
     ]
    },
    {
     "name": "stdout",
     "output_type": "stream",
     "text": [
      "[2025-08-16 15:32:13] [omnigenome 0.3.8alpha]  {'f1_score': 0.745410353811}\n"
     ]
    },
    {
     "name": "stderr",
     "output_type": "stream",
     "text": [
      "Epoch 4/10 Loss: 0.4652: 100%|██████████| 1175/1175 [03:29<00:00,  5.62it/s]\n",
      "Evaluating: 100%|██████████| 147/147 [00:08<00:00, 16.71it/s]\n"
     ]
    },
    {
     "name": "stdout",
     "output_type": "stream",
     "text": [
      "[2025-08-16 15:35:56] [omnigenome 0.3.8alpha]  {'f1_score': 0.7481900665209318}\n"
     ]
    },
    {
     "name": "stderr",
     "output_type": "stream",
     "text": [
      "Epoch 5/10 Loss: 0.4513: 100%|██████████| 1175/1175 [03:26<00:00,  5.69it/s]\n",
      "Evaluating: 100%|██████████| 147/147 [00:08<00:00, 16.63it/s]\n"
     ]
    },
    {
     "name": "stdout",
     "output_type": "stream",
     "text": [
      "[2025-08-16 15:39:33] [omnigenome 0.3.8alpha]  {'f1_score': 0.7499358076563959}\n"
     ]
    },
    {
     "name": "stderr",
     "output_type": "stream",
     "text": [
      "Epoch 6/10 Loss: 0.4472: 100%|██████████| 1175/1175 [03:33<00:00,  5.50it/s]\n",
      "Evaluating: 100%|██████████| 147/147 [00:09<00:00, 15.76it/s]\n"
     ]
    },
    {
     "name": "stdout",
     "output_type": "stream",
     "text": [
      "[2025-08-16 15:43:19] [omnigenome 0.3.8alpha]  {'f1_score': 0.744159244146081}\n"
     ]
    },
    {
     "name": "stderr",
     "output_type": "stream",
     "text": [
      "Epoch 7/10 Loss: 0.4420: 100%|██████████| 1175/1175 [03:37<00:00,  5.41it/s]\n",
      "Evaluating: 100%|██████████| 147/147 [00:09<00:00, 15.27it/s]\n"
     ]
    },
    {
     "name": "stdout",
     "output_type": "stream",
     "text": [
      "[2025-08-16 15:47:06] [omnigenome 0.3.8alpha]  {'f1_score': 0.7422001264844353}\n"
     ]
    },
    {
     "name": "stderr",
     "output_type": "stream",
     "text": [
      "Epoch 8/10 Loss: 0.4377: 100%|██████████| 1175/1175 [03:40<00:00,  5.32it/s]\n",
      "Evaluating: 100%|██████████| 147/147 [00:09<00:00, 16.03it/s]\n"
     ]
    },
    {
     "name": "stdout",
     "output_type": "stream",
     "text": [
      "[2025-08-16 15:50:56] [omnigenome 0.3.8alpha]  {'f1_score': 0.7403320062396685}\n"
     ]
    },
    {
     "name": "stderr",
     "output_type": "stream",
     "text": [
      "Epoch 9/10 Loss: 0.4432: 100%|██████████| 1175/1175 [03:37<00:00,  5.41it/s]\n",
      "Evaluating: 100%|██████████| 147/147 [00:09<00:00, 15.79it/s]\n"
     ]
    },
    {
     "name": "stdout",
     "output_type": "stream",
     "text": [
      "[2025-08-16 15:54:42] [omnigenome 0.3.8alpha]  {'f1_score': 0.7580744404198012}\n"
     ]
    },
    {
     "name": "stderr",
     "output_type": "stream",
     "text": [
      "Epoch 10/10 Loss: 0.4499: 100%|██████████| 1175/1175 [03:38<00:00,  5.37it/s]\n",
      "Evaluating: 100%|██████████| 147/147 [00:09<00:00, 15.86it/s]\n"
     ]
    },
    {
     "name": "stdout",
     "output_type": "stream",
     "text": [
      "[2025-08-16 15:58:34] [omnigenome 0.3.8alpha]  {'f1_score': 0.699219750786072}\n"
     ]
    },
    {
     "name": "stderr",
     "output_type": "stream",
     "text": [
      "Testing: 100%|██████████| 147/147 [00:09<00:00, 16.03it/s]\n"
     ]
    },
    {
     "name": "stdout",
     "output_type": "stream",
     "text": [
      "[2025-08-16 15:58:44] [omnigenome 0.3.8alpha]  {'f1_score': 0.7431965361554681}\n",
      "[2025-08-16 15:58:45] [omnigenome 0.3.8alpha]  The model is saved to finetuned_te_model.\n",
      "Training completed!\n",
      "==================================================\n",
      "Analysis completed!\n",
      "\n",
      "Validation Set Performance (last epoch):\n",
      "f1_score: 0.6992\n",
      "\n",
      "Test Set Performance (best checkpoint):\n",
      "f1_score: 0.7432\n"
     ]
    }
   ],
   "execution_count": 5
  },
  {
   "metadata": {},
   "cell_type": "markdown",
   "source": [
    "## 5. Inference  Example\n",
    "This section demonstrates how to run inference on a single sequence using the fine-tuned model. The `encode_tokens` function ensures the same preprocessing as during training."
   ],
   "id": "824e800bc61706aa"
  },
  {
   "metadata": {
    "ExecuteTime": {
     "end_time": "2025-08-16T14:58:57.883031Z",
     "start_time": "2025-08-16T14:58:45.491459Z"
    }
   },
   "cell_type": "code",
   "source": [
    "from omnigenbench import ModelHub\n",
    "\n",
    "model = ModelHub.load(\"finetuned_te_model\").to(auto_cuda()).to(torch.float16)\n",
    "\n",
    "# Example sequence for inference\n",
    "sample_sequence1 = \"AAACCAACAAAATGCAGTAGAAGTACTCTCGAGCTATAGTCGCGACGTGCTGCCCCGCAGGAGTACAGTAGTAGTACAACGTAAGCGGGAGCAACAGACTCCCCCCCTGCAACCCACTGTGCCTGTGCCCTCGACGCGTCTCCGTCGCTTTGGCAAATGTCACGTACATATTACCGTCTCAGGCTCTCAGCCATGCTCCCTACCACCCCTGCAGCGAAGCAAAAGCCACGCACGCGGCGCCTGACATGTAACAGGACTAGACCATCTTGTTCATTTCCCGCACCCCCTCCTCTCCTCTTCCTCCATCTGCCTCTTTAAAACAGTAAAAATAACCGTGCATCCCCTGGGCAAAATCTCTCCCATACATACACTACAGCGGCGAACCTTTCCTTATTCTCGCAACGCCTCGGTAACGGGCAGCGCCTGCTCCGCGCCGCGGTTGCGAGTTCGGGAAGGCGGCCGGAGTCGCGGGGAGGAGAGGGAGGATTCGATCGGCCAGA\"  # High-TE sequence\n",
    "\n",
    "sample_sequence2 = \"TGGAGATGGGCAGATGGCACACAAAACATGAATAGAAAACCCAAAAGGAAGGATGAAAAAAACACACACACACACACACACAAAACACAGAGAGAGAGAGAGAGAGAGAGCGAGAAAAGAAAAGAAAAAACCAATTCTTTTGGTCTCTTCCCTCTCCGTTTGTCGTGTCGAAGCCTTTGCCCCCACCACCTCCTCCTCTCCTCTCCCTTCCTCCCCTCCTCCCCATCTCGCTCTCCTCCCTCCTCTCTCCTCTCCTCGTCTCCTCTTCCTCTCCATTCCATTGGCCATTCCATTCCATTCCACCCCCCATGAAACCCCAAACCCTCGTCGGCCTCGCCGCGCTCGCGTAGCGCACCCGCCCTTCTCCTCTCGCCGGTGGTCCGCCGCCAGCCTCCCCCCACCCGATCCCGCCGCCCCCCCCGCCTTCACCCCGCCCACGCGGACGCATCCGATCCCGCCGCATCGCCGCGCGGGGGGGGGGGGGGGGGGGGGAGGGCACG \"  # Low-TE sequence\n",
    "\n",
    "# Run inference on the sample sequences\n",
    "outputs = model.inference(sample_sequence1)\n",
    "print(f\"Sample sequence 1 prediction: {outputs}\")\n",
    "outputs = model.inference(sample_sequence2)\n",
    "print(f\"Sample sequence 2 prediction: {outputs}\")\n",
    "\n"
   ],
   "id": "f4eaf486034752c8",
   "outputs": [
    {
     "name": "stderr",
     "output_type": "stream",
     "text": [
      "The tokenizer class you load from this checkpoint is not the same type as the class this function is called from. It may result in unexpected tokenization. \n",
      "The tokenizer class you load from this checkpoint is 'EsmTokenizer'. \n",
      "The class this function is called from is 'RnaTokenizer'.\n"
     ]
    },
    {
     "name": "stdout",
     "output_type": "stream",
     "text": [
      "[2025-08-16 15:58:57] [omnigenome 0.3.8alpha]  Model Name: OmniModelForSequenceClassification\n",
      "Model Metadata: {'library_name': 'omnigenbench', 'omnigenbench_version': '0.3.8alpha', 'torch_version': '2.7.0+cu128+cu12.8+git134179474539648ba7dee1317959529fbd0e7f89', 'transformers_version': '4.55.0', 'model_cls': 'OmniModelForSequenceClassification', 'tokenizer_cls': 'RnaTokenizer', 'model_name': 'OmniModelForSequenceClassification'}\n",
      "Base Model Name: finetuned_te_model\n",
      "Model Type: omnigenome\n",
      "Model Architecture: ['OmniGenomeModel']\n",
      "Model Parameters: 185.886801 M\n",
      "Model Config: OmniGenomeConfig {\n",
      "  \"OmniGenomefold_config\": null,\n",
      "  \"architectures\": [\n",
      "    \"OmniGenomeModel\"\n",
      "  ],\n",
      "  \"attention_probs_dropout_prob\": 0.0,\n",
      "  \"auto_map\": {\n",
      "    \"AutoConfig\": \"configuration_omnigenome.OmniGenomeConfig\",\n",
      "    \"AutoModel\": \"modeling_omnigenome.OmniGenomeModel\",\n",
      "    \"AutoModelForMaskedLM\": \"modeling_omnigenome.OmniGenomeForMaskedLM\",\n",
      "    \"AutoModelForSeq2SeqLM\": \"modeling_omnigenome.OmniGenomeForSeq2SeqLM\",\n",
      "    \"AutoModelForSequenceClassification\": \"modeling_omnigenome.OmniGenomeForSequenceClassification\",\n",
      "    \"AutoModelForTokenClassification\": \"modeling_omnigenome.OmniGenomeForTokenClassification\"\n",
      "  },\n",
      "  \"classifier_dropout\": null,\n",
      "  \"emb_layer_norm_before\": false,\n",
      "  \"hidden_act\": \"gelu\",\n",
      "  \"hidden_dropout_prob\": 0,\n",
      "  \"hidden_size\": 720,\n",
      "  \"id2label\": {\n",
      "    \"0\": \"0\",\n",
      "    \"1\": \"1\"\n",
      "  },\n",
      "  \"initializer_range\": 0.02,\n",
      "  \"intermediate_size\": 2560,\n",
      "  \"is_folding_model\": false,\n",
      "  \"label2id\": {\n",
      "    \"0\": 0,\n",
      "    \"1\": 1\n",
      "  },\n",
      "  \"layer_norm_eps\": 1e-05,\n",
      "  \"mask_token_id\": 23,\n",
      "  \"max_position_embeddings\": 1026,\n",
      "  \"metadata\": {\n",
      "    \"library_name\": \"omnigenbench\",\n",
      "    \"loss_fn_class\": \"CrossEntropyLoss\",\n",
      "    \"loss_fn_module\": \"torch.nn.modules.loss\",\n",
      "    \"model_cls\": \"OmniModelForSequenceClassification\",\n",
      "    \"model_name\": \"OmniModelForSequenceClassification\",\n",
      "    \"omnigenbench_version\": \"0.3.8alpha\",\n",
      "    \"tokenizer_cls\": \"EsmTokenizer\",\n",
      "    \"torch_version\": \"2.7.0+cu128+cu12.8+git134179474539648ba7dee1317959529fbd0e7f89\",\n",
      "    \"transformers_version\": \"4.55.0\"\n",
      "  },\n",
      "  \"model_type\": \"omnigenome\",\n",
      "  \"num_attention_heads\": 30,\n",
      "  \"num_generation\": 50,\n",
      "  \"num_hidden_layers\": 32,\n",
      "  \"num_population\": 100,\n",
      "  \"pad_token_id\": 1,\n",
      "  \"position_embedding_type\": \"rotary\",\n",
      "  \"token_dropout\": true,\n",
      "  \"torch_dtype\": \"float16\",\n",
      "  \"transformers_version\": \"4.55.0\",\n",
      "  \"use_cache\": true,\n",
      "  \"vocab_list\": null,\n",
      "  \"vocab_size\": 24\n",
      "}\n",
      "\n",
      "\n",
      "[2025-08-16 15:58:57] [omnigenome 0.3.8alpha]  No device is specified, the model will be loaded to the default device: cuda:0\n",
      "Sample sequence 1 prediction: {'predictions': '0', 'logits': tensor([1.0000e+00, 1.9073e-06], device='cuda:0', dtype=torch.float16), 'confidence': tensor(1., device='cuda:0', dtype=torch.float16), 'last_hidden_state': tensor([-0.5142, -0.7759,  0.6758, -0.6978,  0.7412,  0.6367, -0.7314, -0.6675,\n",
      "        -0.5801,  0.4346,  0.6689,  0.3701, -0.7451, -0.5615, -0.5273,  0.6987,\n",
      "        -0.6719, -0.5327,  0.5918, -0.5659,  0.7607,  0.5229,  0.6763, -0.5845,\n",
      "         0.6011, -0.7739, -0.5317, -0.4912,  0.5220, -0.5938,  0.7329,  0.6709,\n",
      "         0.4380,  0.5288,  0.7974, -0.3560, -0.7573,  0.8945, -0.6040, -0.5063,\n",
      "        -0.8130, -0.5806, -0.5737,  0.6763, -0.0438,  0.6831,  0.3723, -0.6782,\n",
      "         0.5923,  0.7891, -0.5947, -0.8066,  0.3169,  0.2549, -0.5981,  0.5166,\n",
      "        -0.7959, -0.7085, -0.2837,  0.4800,  0.7031, -0.3196, -0.5503, -0.8096,\n",
      "        -0.6680,  0.1509,  0.7671,  0.5928, -0.7266,  0.5293, -0.3367, -0.5718,\n",
      "         0.1345, -0.8281, -0.6201, -0.5664, -0.5815,  0.7559,  0.2366, -0.6201,\n",
      "         0.8755,  0.3931,  0.6323,  0.6812, -0.8633, -0.4900, -0.4875,  0.7456,\n",
      "         0.6050, -0.7388, -0.2651, -0.8101, -0.4041,  0.6821, -0.7485, -0.6553,\n",
      "         0.6001,  0.6753,  0.4075, -0.4463, -0.4531, -0.4592,  0.7998, -0.8506,\n",
      "        -0.6494,  0.5576, -0.6187, -0.1522,  0.8730,  0.5483,  0.4202, -0.4385,\n",
      "         0.6553, -0.6660, -0.2428, -0.7173, -0.5513, -0.6348, -0.7192, -0.7080,\n",
      "        -0.5103,  0.5273,  0.5425,  0.3037,  0.7388,  0.4934, -0.2505,  0.7002,\n",
      "        -0.6016,  0.7456,  0.2966,  0.5190,  0.5845,  0.7793, -0.6577, -0.4177,\n",
      "         0.4878, -0.6660,  0.7959,  0.6211,  0.7617,  0.3250, -0.1396,  0.0963,\n",
      "        -0.2671, -0.7915, -0.4116,  0.2827,  0.3770, -0.1631, -0.5342, -0.5054,\n",
      "        -0.5420,  0.6416, -0.4919, -0.7568, -0.4500,  0.7144, -0.0431,  0.5332,\n",
      "        -0.7202, -0.2612, -0.8267,  0.6963,  0.7090,  0.7563,  0.3250, -0.2050,\n",
      "         0.3372, -0.4309,  0.5103,  0.4441,  0.7681,  0.6147,  0.5625,  0.5483,\n",
      "        -0.3591,  0.6382, -0.4456,  0.5410,  0.2026, -0.8638, -0.7827,  0.7109,\n",
      "        -0.5630,  0.7715,  0.5190, -0.7354, -0.6943, -0.6890,  0.6943, -0.6841,\n",
      "         0.8867,  0.6509,  0.7031,  0.5425, -0.6499, -0.5649, -0.7759,  0.4683,\n",
      "        -0.6235, -0.2065,  0.1498,  0.6401,  0.6157,  0.7246, -0.7480, -0.6250,\n",
      "         0.8638, -0.2164, -0.7251,  0.1456,  0.8428, -0.5332,  0.4819,  0.3171,\n",
      "         0.6909, -0.5010,  0.4553, -0.8071, -0.5586,  0.5786, -0.6670, -0.4792,\n",
      "         0.8735, -0.7432,  0.8438,  0.6377,  0.5483,  0.7905,  0.3267,  0.6694,\n",
      "         0.6948,  0.5547, -0.6846, -0.1682,  0.7573, -0.5293, -0.4878,  0.4492,\n",
      "        -0.5762, -0.4814,  0.7026, -0.6362,  0.7378,  0.8145, -0.5557,  0.0122,\n",
      "        -0.1693, -0.4956, -0.5332, -0.0499,  0.2869,  0.8452, -0.4958,  0.6997,\n",
      "         0.5010,  0.1388, -0.2937,  0.1232,  0.2937, -0.5420,  0.2250,  0.7690,\n",
      "         0.4885,  0.5425, -0.6123,  0.5483, -0.5562, -0.3208, -0.8042, -0.7271,\n",
      "         0.8208,  0.5981,  0.7656,  0.4014,  0.0809, -0.7129, -0.6040,  0.7798,\n",
      "         0.7041, -0.4805,  0.6025, -0.0466, -0.4043, -0.6226,  0.6665, -0.8013,\n",
      "        -0.5918,  0.6948,  0.7402, -0.7573, -0.4607,  0.7681, -0.4805,  0.6138,\n",
      "         0.6001, -0.1052,  0.7114, -0.6240, -0.1672, -0.5396, -0.7842,  0.6294,\n",
      "        -0.4392,  0.5571,  0.7554, -0.7075, -0.0676, -0.6484, -0.6289,  0.6250,\n",
      "        -0.7070, -0.4705,  0.6479, -0.6987,  0.5425, -0.6777,  0.7705, -0.6724,\n",
      "         0.5181, -0.5508,  0.7041, -0.6606, -0.7744,  0.4534,  0.5991,  0.5615,\n",
      "         0.7153,  0.6675, -0.8428, -0.3474, -0.6895, -0.7671, -0.2114,  0.4795,\n",
      "         0.5083, -0.8940,  0.7739, -0.4849, -0.5928, -0.7998, -0.2969,  0.7427,\n",
      "        -0.5981, -0.6411, -0.7793, -0.6875,  0.5781, -0.2218, -0.7544, -0.2346,\n",
      "         0.3899,  0.4717, -0.7480,  0.5962,  0.5425, -0.5776, -0.5791, -0.7314,\n",
      "         0.3689, -0.2488,  0.1451,  0.8154,  0.7104, -0.2883, -0.6943, -0.6494,\n",
      "        -0.4126,  0.4937, -0.5581,  0.6479,  0.0826, -0.2173, -0.7549,  0.6416,\n",
      "        -0.7373,  0.6104,  0.6016, -0.0080,  0.3411, -0.2742, -0.5708, -0.7432,\n",
      "        -0.7217, -0.4609,  0.7661, -0.6284, -0.4990, -0.5786,  0.3472,  0.7363,\n",
      "        -0.5679, -0.7046,  0.5283,  0.6348,  0.4951,  0.6948, -0.6880,  0.2076,\n",
      "        -0.7881,  0.6899,  0.7632, -0.7905, -0.7549,  0.2795,  0.4951,  0.6367,\n",
      "         0.5098,  0.6763,  0.7949,  0.8145,  0.7617,  0.8008,  0.3789, -0.5249,\n",
      "         0.3416,  0.1691,  0.0647,  0.7505,  0.4663,  0.8257,  0.4580,  0.5122,\n",
      "        -0.7554, -0.4998, -0.8472, -0.7959, -0.7026, -0.7192,  0.5225, -0.6885,\n",
      "         0.6626,  0.3545, -0.5835, -0.6006,  0.8008, -0.6260,  0.7432, -0.5581,\n",
      "        -0.8179,  0.4500, -0.5469,  0.3672, -0.7793, -0.6514, -0.3396,  0.6753,\n",
      "         0.3542,  0.7046,  0.5547,  0.7266,  0.5063, -0.8560, -0.4331,  0.1776,\n",
      "         0.5146,  0.6152,  0.7842,  0.6011, -0.7026,  0.7734, -0.7554,  0.7559,\n",
      "         0.7920, -0.5200,  0.7329,  0.5884, -0.3496,  0.4766, -0.3777, -0.8013,\n",
      "        -0.5903, -0.6099, -0.6401,  0.7402, -0.5903, -0.5493, -0.7378,  0.1006,\n",
      "         0.4180, -0.6943,  0.8745, -0.1049,  0.7046, -0.5454, -0.8247,  0.6919,\n",
      "         0.6338, -0.7646,  0.5796,  0.5742, -0.7085,  0.5703, -0.8003, -0.5078,\n",
      "         0.7817,  0.6846, -0.6484, -0.4541,  0.7080, -0.5518, -0.5298,  0.5342,\n",
      "         0.7720, -0.0969, -0.6411, -0.6968,  0.5044,  0.4087, -0.5972,  0.1242,\n",
      "        -0.6357, -0.6230, -0.5825,  0.6826,  0.7788,  0.4556,  0.7451,  0.8340,\n",
      "         0.4583, -0.5259, -0.1627, -0.6094, -0.6885,  0.6147,  0.4863, -0.8765,\n",
      "        -0.5791, -0.7754, -0.8892,  0.7886, -0.7661, -0.8076, -0.6826,  0.5889,\n",
      "         0.3040, -0.7905, -0.6235,  0.5889, -0.6040,  0.3853, -0.6299, -0.7256,\n",
      "        -0.6475,  0.5698,  0.6724,  0.6128,  0.7358,  0.7280, -0.2883,  0.6782,\n",
      "         0.6592,  0.0447, -0.5615,  0.6914,  0.7163, -0.7783, -0.5586,  0.4905,\n",
      "         0.5728,  0.7090, -0.6460,  0.7856, -0.7100,  0.7461,  0.2371, -0.7075,\n",
      "        -0.5293, -0.5898, -0.5176, -0.3206, -0.8140, -0.6934, -0.8096, -0.6006,\n",
      "         0.5093, -0.7378,  0.6382, -0.7275, -0.4314,  0.5688, -0.5967,  0.1302,\n",
      "         0.6401,  0.5464,  0.5391, -0.8833,  0.5459,  0.2212, -0.6899, -0.3425,\n",
      "         0.6938, -0.6851, -0.4836,  0.6763,  0.4290,  0.4607,  0.7959, -0.2339,\n",
      "         0.5684, -0.5366,  0.5034,  0.8037,  0.5718,  0.5654, -0.6475,  0.6982,\n",
      "        -0.5786, -0.4500, -0.5967,  0.6641,  0.8120, -0.2461, -0.2744,  0.7510,\n",
      "        -0.6895, -0.8257,  0.1434, -0.3682,  0.7715, -0.6226,  0.7358, -0.3445,\n",
      "        -0.4067,  0.5698,  0.5508,  0.4255,  0.7300,  0.8623, -0.6665,  0.5977,\n",
      "        -0.4617, -0.5283, -0.4058, -0.7583,  0.7876,  0.7271,  0.6895,  0.4458,\n",
      "         0.7197,  0.4229,  0.0833, -0.6494,  0.7002, -0.7544,  0.6382, -0.6025,\n",
      "         0.6963,  0.7017,  0.5190,  0.6030, -0.5664,  0.6777, -0.3972,  0.7847,\n",
      "        -0.2152,  0.5552,  0.7544, -0.6689,  0.5161,  0.7300,  0.6460, -0.0018,\n",
      "        -0.5825,  0.6807, -0.7661,  0.0855,  0.0293,  0.2617, -0.3762, -0.5112,\n",
      "         0.5400, -0.4875,  0.5239, -0.5078, -0.7324,  0.7056,  0.1882,  0.4949,\n",
      "        -0.7915, -0.5459, -0.7720,  0.7373, -0.7534, -0.6938, -0.5269,  0.6309,\n",
      "         0.7642,  0.7119,  0.3899, -0.8896,  0.4897,  0.8193, -0.6724,  0.7148,\n",
      "        -0.6650,  0.7803,  0.7773,  0.3318,  0.2335,  0.6973,  0.3037, -0.5771,\n",
      "        -0.0836,  0.1602, -0.4224,  0.7896,  0.5532,  0.0581, -0.4863, -0.4541,\n",
      "         0.7456,  0.2196, -0.7383, -0.4255, -0.7900, -0.1937,  0.3132,  0.5269],\n",
      "       device='cuda:0', dtype=torch.float16)}\n",
      "Sample sequence 2 prediction: {'predictions': '0', 'logits': tensor([1.0000e+00, 2.3842e-06], device='cuda:0', dtype=torch.float16), 'confidence': tensor(1., device='cuda:0', dtype=torch.float16), 'last_hidden_state': tensor([-0.5239, -0.7646,  0.6855, -0.7090,  0.7251,  0.5679, -0.6650, -0.6978,\n",
      "        -0.6226,  0.4167,  0.6768,  0.3037, -0.7456, -0.5405, -0.4922,  0.5854,\n",
      "        -0.6924, -0.5977,  0.6670, -0.5137,  0.7568,  0.4482,  0.7090, -0.5449,\n",
      "         0.5933, -0.7886, -0.4365, -0.4348,  0.4651, -0.6006,  0.7334,  0.6812,\n",
      "         0.4753,  0.6367,  0.8145, -0.2976, -0.7466,  0.9023, -0.6431, -0.5391,\n",
      "        -0.7773, -0.5615, -0.5996,  0.6631,  0.0291,  0.6660,  0.5161, -0.6201,\n",
      "         0.6548,  0.7329, -0.6255, -0.8315,  0.3193,  0.3669, -0.6650,  0.6167,\n",
      "        -0.7417, -0.6133, -0.3174,  0.4561,  0.6997, -0.2397, -0.4800, -0.7964,\n",
      "        -0.7378,  0.2512,  0.8037,  0.5806, -0.6709,  0.5815, -0.3665, -0.6553,\n",
      "         0.1164, -0.8481, -0.5938, -0.6377, -0.5327,  0.7134,  0.1385, -0.6431,\n",
      "         0.8965,  0.4492,  0.5215,  0.6807, -0.8550, -0.4246, -0.4561,  0.7139,\n",
      "         0.6050, -0.7642, -0.1899, -0.7876, -0.3416,  0.6445, -0.6948, -0.6934,\n",
      "         0.6460,  0.7026,  0.4661, -0.4480, -0.3870, -0.4353,  0.8252, -0.8467,\n",
      "        -0.6763,  0.6050, -0.5293, -0.1676,  0.8540,  0.6050,  0.5034, -0.4868,\n",
      "         0.5757, -0.6982, -0.3516, -0.6958, -0.5073, -0.6440, -0.6797, -0.7778,\n",
      "        -0.3735,  0.6040,  0.5815,  0.2966,  0.7998,  0.4678, -0.3542,  0.7212,\n",
      "        -0.5757,  0.7085,  0.3943,  0.5493,  0.6577,  0.7314, -0.5239, -0.3062,\n",
      "         0.3618, -0.7383,  0.8418,  0.6396,  0.7944,  0.2800, -0.1904,  0.1113,\n",
      "        -0.2120, -0.8320, -0.3943,  0.2031,  0.2284, -0.2281, -0.6147, -0.5132,\n",
      "        -0.5186,  0.5229, -0.4875, -0.7510, -0.4521,  0.7280, -0.1218,  0.5220,\n",
      "        -0.7495, -0.2771, -0.8442,  0.7397,  0.7119,  0.7549,  0.3530, -0.1361,\n",
      "         0.3704, -0.5024,  0.5298,  0.4082,  0.7617,  0.6401,  0.6182,  0.5381,\n",
      "        -0.3787,  0.5840, -0.4597,  0.5757,  0.2681, -0.8423, -0.8247,  0.6978,\n",
      "        -0.5820,  0.7524,  0.4089, -0.7749, -0.6870, -0.6538,  0.5908, -0.7188,\n",
      "         0.8560,  0.6396,  0.6514,  0.4736, -0.6694, -0.5981, -0.7373,  0.5176,\n",
      "        -0.6558, -0.2472,  0.0719,  0.6763,  0.6411,  0.7349, -0.7754, -0.6250,\n",
      "         0.8794, -0.2329, -0.7402,  0.1642,  0.8281, -0.5820,  0.4597,  0.2788,\n",
      "         0.6235, -0.4983,  0.4812, -0.7715, -0.5562,  0.6050, -0.6489, -0.4912,\n",
      "         0.8662, -0.7476,  0.8291,  0.6675,  0.4788,  0.7769,  0.3301,  0.6211,\n",
      "         0.5874,  0.5938, -0.7529, -0.2360,  0.7056, -0.5005, -0.4197,  0.4285,\n",
      "        -0.5815, -0.4377,  0.7407, -0.6211,  0.7490,  0.7871, -0.4224,  0.0171,\n",
      "        -0.1010, -0.3369, -0.5415, -0.0544,  0.3484,  0.8315, -0.4712,  0.6064,\n",
      "         0.4875,  0.0790, -0.2354,  0.1120,  0.4834, -0.5098,  0.3062,  0.7188,\n",
      "         0.4851,  0.5303, -0.4883,  0.4944, -0.5483, -0.3379, -0.7681, -0.7144,\n",
      "         0.7300,  0.5815,  0.7246,  0.3879,  0.1068, -0.7793, -0.6123,  0.7539,\n",
      "         0.7202, -0.4976,  0.5908, -0.0735, -0.2839, -0.6318,  0.6279, -0.8145,\n",
      "        -0.5947,  0.6821,  0.6875, -0.7671, -0.4944,  0.7471, -0.5142,  0.5469,\n",
      "         0.4963, -0.2490,  0.6621, -0.6851, -0.1331, -0.5684, -0.7461,  0.5601,\n",
      "        -0.4607,  0.5264,  0.7109, -0.6714, -0.0353, -0.6274, -0.6382,  0.6567,\n",
      "        -0.7075, -0.4436,  0.6904, -0.6724,  0.4744, -0.6411,  0.8135, -0.7148,\n",
      "         0.5591, -0.5996,  0.6929, -0.6074, -0.8271,  0.5249,  0.5967,  0.6348,\n",
      "         0.6851,  0.6396, -0.8022, -0.2622, -0.6548, -0.7837, -0.2075,  0.4399,\n",
      "         0.4956, -0.8965,  0.7725, -0.3916, -0.5889, -0.7637, -0.3264,  0.6636,\n",
      "        -0.5298, -0.6167, -0.7568, -0.7017,  0.5288, -0.1489, -0.7344, -0.2339,\n",
      "         0.4407,  0.4172, -0.7207,  0.5718,  0.4685, -0.4890, -0.5776, -0.6465,\n",
      "         0.3291, -0.2479,  0.0297,  0.7754,  0.7231, -0.0394, -0.6987, -0.6543,\n",
      "        -0.4155,  0.4426, -0.5229,  0.6753, -0.0125, -0.0945, -0.7773,  0.5317,\n",
      "        -0.6865,  0.5220,  0.5801, -0.0551,  0.2688, -0.2362, -0.6289, -0.7725,\n",
      "        -0.6802, -0.4683,  0.7300, -0.6011, -0.5781, -0.5151,  0.2991,  0.7397,\n",
      "        -0.5356, -0.6938,  0.5254,  0.6714,  0.4570,  0.6777, -0.7236,  0.2377,\n",
      "        -0.7886,  0.6914,  0.7988, -0.7852, -0.6943,  0.1918,  0.4875,  0.7124,\n",
      "         0.5610,  0.6548,  0.8105,  0.8149,  0.7671,  0.8057,  0.3638, -0.4587,\n",
      "         0.2607,  0.2219,  0.0130,  0.6978,  0.3655,  0.7266,  0.3257,  0.5137,\n",
      "        -0.7520, -0.4539, -0.8594, -0.7915, -0.6611, -0.7598,  0.5161, -0.7290,\n",
      "         0.6763,  0.3013, -0.5874, -0.5806,  0.8154, -0.6084,  0.7139, -0.6152,\n",
      "        -0.8120,  0.4868, -0.5776,  0.3684, -0.8184, -0.5278, -0.5024,  0.6167,\n",
      "         0.3640,  0.7002,  0.4937,  0.7158,  0.5581, -0.8755, -0.4717,  0.1527,\n",
      "         0.4363,  0.5605,  0.7627,  0.6265, -0.7334,  0.6904, -0.7314,  0.7363,\n",
      "         0.7749, -0.5146,  0.7646,  0.6816, -0.3125,  0.5610, -0.4072, -0.7847,\n",
      "        -0.5654, -0.6113, -0.6206,  0.7573, -0.5864, -0.5542, -0.6831,  0.2032,\n",
      "         0.3879, -0.7456,  0.8506, -0.2181,  0.6562, -0.5044, -0.8428,  0.6118,\n",
      "         0.6768, -0.7905,  0.6216,  0.4321, -0.7031,  0.5317, -0.7939, -0.5889,\n",
      "         0.7598,  0.6196, -0.6846, -0.5015,  0.7031, -0.4922, -0.5527,  0.6323,\n",
      "         0.7515, -0.1440, -0.5845, -0.6992,  0.4438,  0.4878, -0.6255, -0.0084,\n",
      "        -0.5884, -0.6025, -0.5879,  0.6870,  0.8149,  0.4763,  0.7651,  0.7959,\n",
      "         0.4780, -0.3567, -0.0286, -0.5566, -0.6382,  0.5962,  0.4949, -0.8750,\n",
      "        -0.6533, -0.7925, -0.8594,  0.7900, -0.8403, -0.8203, -0.7178,  0.5747,\n",
      "         0.3230, -0.7388, -0.5635,  0.5854, -0.6504,  0.3938, -0.6147, -0.7095,\n",
      "        -0.6763,  0.4785,  0.6235,  0.6328,  0.7417,  0.7080, -0.3147,  0.5835,\n",
      "         0.6934,  0.0559, -0.4949,  0.6846,  0.6787, -0.7964, -0.5244,  0.5371,\n",
      "         0.5254,  0.7305, -0.6855,  0.7349, -0.7329,  0.7578,  0.2394, -0.6689,\n",
      "        -0.5381, -0.6025, -0.5605, -0.2598, -0.8428, -0.6777, -0.7817, -0.5518,\n",
      "         0.5405, -0.7295,  0.6694, -0.7559, -0.3767,  0.5991, -0.5903,  0.1683,\n",
      "         0.6338,  0.4819,  0.5176, -0.8447,  0.5493,  0.2029, -0.6885, -0.3235,\n",
      "         0.6797, -0.6396, -0.4585,  0.6157,  0.3638,  0.5776,  0.7583, -0.2646,\n",
      "         0.6108, -0.4836,  0.5308,  0.8442,  0.5542,  0.6411, -0.5938,  0.6787,\n",
      "        -0.6079, -0.4663, -0.6060,  0.7241,  0.7603, -0.2262, -0.3552,  0.6851,\n",
      "        -0.5771, -0.8281,  0.1396, -0.2820,  0.7803, -0.6523,  0.6514, -0.3745,\n",
      "        -0.4800,  0.4529,  0.6147,  0.4128,  0.7183,  0.8350, -0.6836,  0.5684,\n",
      "        -0.4160, -0.5005, -0.3818, -0.7256,  0.7856,  0.7554,  0.6948,  0.5400,\n",
      "         0.7500,  0.3706,  0.1231, -0.6919,  0.7402, -0.7603,  0.6221, -0.6079,\n",
      "         0.6060,  0.6597,  0.4863,  0.6499, -0.5649,  0.6768, -0.3298,  0.8096,\n",
      "        -0.2090,  0.6416,  0.6792, -0.6699,  0.4668,  0.6582,  0.5952,  0.0043,\n",
      "        -0.6338,  0.6050, -0.7808,  0.0228,  0.0224,  0.2133, -0.3572, -0.4795,\n",
      "         0.6196, -0.4656,  0.4871, -0.4597, -0.7334,  0.7451,  0.2297,  0.3687,\n",
      "        -0.7876, -0.4731, -0.7891,  0.7515, -0.7866, -0.7100, -0.5146,  0.6270,\n",
      "         0.7588,  0.7305,  0.3765, -0.8696,  0.5425,  0.8066, -0.5698,  0.7324,\n",
      "        -0.6616,  0.7930,  0.7085,  0.3096,  0.1572,  0.6685,  0.3069, -0.6094,\n",
      "        -0.0669,  0.1039, -0.5127,  0.8066,  0.5430, -0.0125, -0.4009, -0.3696,\n",
      "         0.7676,  0.0377, -0.7119, -0.3862, -0.7798, -0.1229,  0.2076,  0.5171],\n",
      "       device='cuda:0', dtype=torch.float16)}\n"
     ]
    }
   ],
   "execution_count": 6
  },
  {
   "metadata": {},
   "cell_type": "markdown",
   "source": [
    "## 6. Visualization\n",
    "\n",
    "In this section, we visualize validation metrics across epochs to assess learning dynamics.\n",
    "\n",
    "### Plot Validation Curves\n",
    "We plot macro F1 across epochs. Additional metrics (e.g., MCC) can be added if enabled in `utils.py` or dataset config.\n"
   ],
   "id": "10df7a1e8c5c29a3"
  },
  {
   "metadata": {
    "ExecuteTime": {
     "end_time": "2025-08-16T14:58:57.942986Z",
     "start_time": "2025-08-16T14:58:57.932452Z"
    }
   },
   "cell_type": "code",
   "source": [
    "# Results Overview — Quick summary of metrics\n",
    "if metrics.get('valid'):\n",
    "\tprint('Validation (last epoch):')\n",
    "\tfor k, v in metrics['valid'][-1].items():\n",
    "\t\tprint(f\"{k}: {v:.4f}\")\n",
    "\n",
    "if metrics.get('test'):\n",
    "\tprint('\\nTest (best checkpoint):')\n",
    "\tfor k, v in metrics['test'][-1].items():\n",
    "\t\tprint(f\"{k}: {v:.4f}\")\n"
   ],
   "id": "d7da5f9f72240be1",
   "outputs": [
    {
     "name": "stdout",
     "output_type": "stream",
     "text": [
      "Validation (last epoch):\n",
      "f1_score: 0.6992\n",
      "\n",
      "Test (best checkpoint):\n",
      "f1_score: 0.7432\n"
     ]
    }
   ],
   "execution_count": 7
  },
  {
   "metadata": {
    "ExecuteTime": {
     "end_time": "2025-08-16T14:58:58.205564Z",
     "start_time": "2025-08-16T14:58:57.990860Z"
    }
   },
   "cell_type": "code",
   "source": [
    "# Visualization — Plot validation curve\n",
    "valid_key = 'valid' if 'valid' in metrics else ('eval' if 'eval' in metrics else None)\n",
    "if valid_key is None:\n",
    "\tprint(\"No validation metrics found for plotting.\")\n",
    "else:\n",
    "\tvalid_df = pd.DataFrame(metrics[valid_key])\n",
    "\tplt.style.use('seaborn-v0_8-whitegrid')\n",
    "\tfig, ax = plt.subplots(1, 1, figsize=(7, 5))\n",
    "\tif 'f1_score' in valid_df.columns:\n",
    "\t\tsns.lineplot(data=valid_df, x=valid_df.index, y='f1_score', ax=ax, label='Validation F1 (Macro)')\n",
    "\t\tax.set_ylabel('F1 Score')\n",
    "\telif 'matthews_corrcoef' in valid_df.columns:\n",
    "\t\tsns.lineplot(data=valid_df, x=valid_df.index, y='matthews_corrcoef', ax=ax, label='Validation MCC')\n",
    "\t\tax.set_ylabel('MCC')\n",
    "\telse:\n",
    "\t\tfirst_col = [c for c in valid_df.columns if isinstance(valid_df[c].iloc[-1], (int, float))]\n",
    "\t\tif first_col:\n",
    "\t\t\tsns.lineplot(data=valid_df, x=valid_df.index, y=first_col[0], ax=ax, label=first_col[0])\n",
    "\t\t\tax.set_ylabel(first_col[0])\n",
    "\t\telse:\n",
    "\t\t\tprint(\"Validation metrics exist but no numeric columns to plot.\")\n",
    "\tax.set_title('Validation Metric across Epochs')\n",
    "\tax.set_xlabel('Epoch')\n",
    "\tax.legend()\n",
    "\tplt.tight_layout()\n",
    "\tplt.show()"
   ],
   "id": "8c1f58a326b90338",
   "outputs": [
    {
     "data": {
      "text/plain": [
       "<Figure size 700x500 with 1 Axes>"
      ],
      "image/png": "[encoded data removed]"
     },
     "metadata": {},
     "output_type": "display_data"
    }
   ],
   "execution_count": 8
  },
  {
   "metadata": {},
   "cell_type": "markdown",
   "source": [
    "## References\n",
    "\n",
    "- PlantRNA-FM: \"An interpretable RNA foundation model for exploring functional RNA motifs in plants\" (Nature Machine Intelligence, 2024).\n"
   ],
   "id": "f03109d6a613f0a"
  }
 ],
 "metadata": {
  "kernelspec": {
   "display_name": "Python 3",
   "language": "python",
   "name": "python3"
  },
  "language_info": {
   "name": "python",
   "pygments_lexer": "ipython3"
  },
  "orig_nbformat": 4
 },
 "nbformat": 4,
 "nbformat_minor": 5
}
