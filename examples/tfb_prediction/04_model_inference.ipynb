{
 "cells": [
  {
   "cell_type": "markdown",
   "id": "ff4bbd8f",
   "metadata": {},
   "source": [
    "## \u001F TFB Prediction Tutorial 4/4: Model Inference - From Trained Model to Predictions\n",
    "\n",
    "Welcome to the final tutorial in our series on fine-tuning a Genomic Foundation Model. We have come a long way:\n",
    "\n",
    "1.  We prepared the DeepSEA dataset ([01_data_preparation.ipynb](https://github.com/yangheng95/OmniGenBench/blob/master/examples/tfb_prediction/01_data_preparation.ipynb)).\n",
    "2.  We initialized a model architecture suitable for our task ([02_model_initialization.ipynb](https://github.com/yangheng95/OmniGenBench/blob/master/examples/tfb_prediction/02_model_initialization.ipynb)).\n",
    "3.  We trained the model and saved the best-performing checkpoint ([03_model_training.ipynb](https://github.com/yangheng95/OmniGenBench/blob/master/examples/tfb_prediction/03_model_training.ipynb)).\n",
    "\n",
    "Now, we have a powerful, fine-tuned model stored as `best_model.pth`. But a model is only useful if we can use it to make predictions on new, unseen data. This process is called **inference**.\n",
    "\n",
    "In this tutorial, we will cover:\n",
    "1.  **The Inference Pipeline**: Understanding the essential steps for getting predictions.\n",
    "2.  **Inference with `ModelHub`**: The easy, one-line way to load and predict with `OmniGenBench`.\n",
    "3.  **Manual Inference**: A more hands-on approach for custom data processing workflows.\n",
    "4.  **Final Evaluation**: Assessing our model's performance on the held-out test set.\n",
    "5.  **Deployment Concepts**: A brief look at how to serve your model as an API.\n",
    "\n",
    "By the end, you will be able to use your trained model to predict transcription factor binding sites and understand how to integrate it into larger applications."
   ]
  },
  {
   "cell_type": "markdown",
   "id": "51d7ccda",
   "metadata": {},
   "source": [
    "### 1. The Inference Pipeline\n",
    "\n",
    "Making a prediction with a trained model involves a clear, logical sequence of steps. It's crucial that the data processing during inference **exactly matches** the processing used during training.\n",
    "\n",
    "The pipeline looks like this:\n",
    "\n",
    "1.  **Load Model and Tokenizer**: You must load the exact model checkpoint (`best_model.pth`) that you saved during training. You also need the same tokenizer that was used to prepare the training data.\n",
    "2.  **Prepare Input**: Take a new, raw DNA sequence.\n",
    "3.  **Tokenize**: Use the loaded tokenizer to convert the DNA sequence into `input_ids` and an `attention_mask`, just as we did for the training data. This includes applying the same `max_length`, padding, and truncation strategies.\n",
    "4.  **Predict**: Pass the tokenized input through the model to get the raw output scores (logits).\n",
    "5.  **Post-process**: Convert the logits into a more interpretable format, such as probabilities (by applying a Sigmoid function) or binary predictions (by applying a threshold like 0.5).\n",
    "\n",
    "**`OmniGenBench` simplify all the processes and provides a unified interface for inference.**"
   ]
  },
  {
   "cell_type": "markdown",
   "id": "de6d0891",
   "metadata": {},
   "source": [
    "### 2. Inference with `ModelHub`: The Easy Way\n",
    "\n",
    "For many standard use cases, `OmniGenBench` offers a high-level `ModelHub` API that encapsulates the entire inference pipeline. It allows you to load a fine-tuned model and get predictions with a single line of code.\n",
    "\n",
    "`ModelHub` automatically handles loading the correct model architecture, the tokenizer, and the saved weights from your checkpoint directory.\n",
    "\n",
    "Let's see it in action."
   ]
  },
  {
   "cell_type": "code",
   "execution_count": null,
   "id": "5d07202f",
   "metadata": {},
   "outputs": [],
   "source": [
    "# Load the trained model using ModelHub - matches complete tutorial\n",
    "from omnigenbench import ModelHub\n",
    "\n",
    "# Load the trained model\n",
    "print(\"📦 Loading trained TFB model...\")\n",
    "inference_model = ModelHub.load(\"yangheng/ogb_tfb_finetuned\")\n",
    "print(\"✅ Model loaded successfully!\")\n",
    "\n",
    "# Define sample sequences for testing - matches complete tutorial style\n",
    "sample_sequences = {\n",
    "    \"Random sequence\": \"AGCT\" * (128 // 4),\n",
    "    \"AT-rich sequence\": \"AATT\" * (128 // 4),\n",
    "    \"GC-rich sequence\": \"GCGC\" * (128 // 4),\n",
    "}\n",
    "\n",
    "print(\"🧬 Testing model on sample DNA sequences:\")\n",
    "print(\"=\" * 50)"
   ]
  },
  {
   "cell_type": "markdown",
   "id": "3b14233e",
   "metadata": {},
   "source": [
    "This approach is incredibly convenient for standard models and tasks. You simply point `ModelHub` to your checkpoint directory, and it takes care of the rest."
   ]
  },
  {
   "cell_type": "markdown",
   "id": "bc8d6678",
   "metadata": {},
   "source": [
    "### 3. Manual Inference: For Custom Workflows\n",
    "\n",
    "While `ModelHub` is convenient, sometimes you need more control. For example, you might have a custom data loading pipeline or want to perform inference on a large dataset more efficiently. In these cases, you can perform the inference steps manually.\n",
    "\n",
    "This involves loading the model and tokenizer yourself and then explicitly tokenizing the input before passing it to the model. This is essentially what `ModelHub` does under the hood.\n",
    "\n",
    "#### 3.1. Setup: Re-initializing Model, Tokenizer, and Data\n",
    "\n",
    "First, let's set up our environment again. We need to load the necessary libraries and define our configuration. We also need our test dataloader to evaluate the model on the full test set."
   ]
  },
  {
   "cell_type": "code",
   "execution_count": null,
   "id": "dac1415c",
   "metadata": {},
   "outputs": [],
   "source": [
    "# Import libraries for manual inference\n",
    "import torch\n",
    "import numpy as np\n",
    "import os\n",
    "from omnigenbench import (\n",
    "    OmniTokenizer,\n",
    "    OmniModelForMultiLabelSequenceClassification,\n",
    "    OmniDatasetForMultiLabelClassification\n",
    ")\n",
    "\n",
    "# Configuration for inference - matches complete tutorial\n",
    "model_name_or_path = \"yangheng/OmniGenome-52M\"\n",
    "dataset_name = \"deepsea_tfb_prediction\"\n",
    "num_labels = 919\n",
    "max_length = 512\n",
    "device = \"cuda\" if torch.cuda.is_available() else \"cpu\"\n",
    "\n",
    "print(\"✅ Libraries imported and configuration set!\")\n",
    "print(f\"🎯 Device: {device}\")\n",
    "print(f\"🧬 Model: {model_name_or_path}\")\n",
    "print(f\"📊 Labels: {num_labels} TF binding sites\")"
   ]
  },
  {
   "cell_type": "code",
   "execution_count": null,
   "id": "56d25b19",
   "metadata": {},
   "outputs": [],
   "source": [
    "# Load tokenizer and test dataset for evaluation\n",
    "print(\"🔄 Loading tokenizer...\")\n",
    "tokenizer = OmniTokenizer.from_pretrained(model_name_or_path)\n",
    "print(f\"✅ Tokenizer loaded\")\n",
    "\n",
    "print(\"📊 Loading test dataset...\")\n",
    "datasets = OmniDatasetForMultiLabelClassification.from_hub(\n",
    "    dataset_name_or_path=dataset_name,\n",
    "    tokenizer=tokenizer,\n",
    "    max_length=max_length,\n",
    "    max_examples=100,  # Small subset for demonstration\n",
    "    force_padding=False\n",
    ")\n",
    "\n",
    "print(f\"🧪 Test dataset: {len(datasets['test'])} samples\")\n",
    "\n",
    "# For manual inference, we can load the model architecture and weights\n",
    "# In practice, you would load your trained checkpoint here\n",
    "print(\"🔄 Loading model for manual inference...\")\n",
    "model = OmniModelForMultiLabelSequenceClassification(\n",
    "    model_name_or_path,\n",
    "    tokenizer,\n",
    "    num_labels=num_labels,\n",
    ")\n",
    "model.to(device)\n",
    "model.eval()\n",
    "print(\"✅ Model loaded and ready for manual inference!\")\n",
    "print(f\"📊 Model has {sum(p.numel() for p in model.parameters()) / 1e6:.1f}M parameters\")"
   ]
  },
  {
   "cell_type": "markdown",
   "id": "eada5ea1",
   "metadata": {},
   "source": [
    "#### 3.2. Loading the Fine-Tuned Model\n",
    "\n",
    "Now, we load the model. We first initialize the model architecture using `OmniModelForMultiLabelSequenceClassification` and then load our fine-tuned weights from the `best_model.pth` file."
   ]
  },
  {
   "cell_type": "code",
   "execution_count": null,
   "id": "b3b5df40",
   "metadata": {},
   "outputs": [],
   "source": [
    "# Quick demonstration with ModelHub - matches complete tutorial approach\n",
    "print(\"🔮 Quick Inference with ModelHub:\")\n",
    "print(\"=\" * 40)\n",
    "\n",
    "# Use ModelHub for easy inference\n",
    "model_hub_inference = ModelHub.load(\"yangheng/ogb_tfb_finetuned\")\n",
    "\n",
    "# Test with a sample sequence\n",
    "test_sequence = \"GATTACAGATTACAGATTACA\" * 10  # Create a longer test sequence\n",
    "\n",
    "print(f\"🧬 Test sequence length: {len(test_sequence)} bp\")\n",
    "print(\"🔄 Running inference...\")\n",
    "\n",
    "# Make prediction\n",
    "result = model_hub_inference.inference(test_sequence)\n",
    "print(\"✅ Inference completed!\")\n",
    "\n",
    "if hasattr(result, 'shape'):\n",
    "    print(f\"📊 Output shape: {result.shape}\")\n",
    "    print(f\"🎯 Predicted {result.shape[-1]} TF binding probabilities\")\n",
    "else:\n",
    "    print(f\"📊 Result type: {type(result)}\")\n",
    "\n",
    "print(\"🚀 ModelHub provides easy one-line inference!\")"
   ]
  },
  {
   "cell_type": "markdown",
   "id": "25efda4a",
   "metadata": {},
   "source": [
    "#### 3.3. The Inference Loop\n",
    "\n",
    "With the model and dataloader ready, we can now loop through the test set, make predictions, and store the results. This is the core of manual inference."
   ]
  },
  {
   "cell_type": "code",
   "execution_count": null,
   "id": "9edf2b69",
   "metadata": {},
   "outputs": [],
   "source": [
    "# Manual inference on test dataset\n",
    "print(\"🔍 Manual Inference on Test Dataset:\")\n",
    "print(\"=\" * 45)\n",
    "\n",
    "# Get a few test samples for demonstration\n",
    "test_samples = [datasets['test'][i] for i in range(min(3, len(datasets['test'])))]\n",
    "\n",
    "all_predictions = []\n",
    "all_labels = []\n",
    "\n",
    "print(\"🔄 Processing test samples...\")\n",
    "\n",
    "with torch.no_grad():  # Disable gradient calculations for efficiency\n",
    "    for i, sample in enumerate(test_samples):\n",
    "        # Prepare input\n",
    "        input_ids = sample['input_ids'].unsqueeze(0).to(device)  # Add batch dimension\n",
    "        attention_mask = sample['attention_mask'].unsqueeze(0).to(device)\n",
    "        true_labels = sample['labels']\n",
    "        \n",
    "        # Run inference\n",
    "        outputs = model(input_ids=input_ids, attention_mask=attention_mask)\n",
    "        logits = outputs.logits.squeeze(0)  # Remove batch dimension\n",
    "        \n",
    "        # Convert to probabilities\n",
    "        probabilities = torch.sigmoid(logits)\n",
    "        \n",
    "        # Apply threshold for binary predictions\n",
    "        predictions = (probabilities > 0.5).float()\n",
    "        \n",
    "        print(f\"\\n📋 Sample {i+1}:\")\n",
    "        print(f\"   🧬 Sequence length: {input_ids.shape[1]} tokens\")\n",
    "        print(f\"   🎯 Predicted binding sites: {predictions.sum().item():.0f}/{len(predictions)}\")\n",
    "        print(f\"   🏷️ True binding sites: {true_labels.sum().item():.0f}/{len(true_labels)}\")\n",
    "        print(f\"   📈 Max probability: {probabilities.max().item():.3f}\")\n",
    "        print(f\"   📉 Min probability: {probabilities.min().item():.3f}\")\n",
    "        \n",
    "        all_predictions.append(predictions.cpu().numpy())\n",
    "        all_labels.append(true_labels.numpy())\n",
    "\n",
    "print(f\"\\n✅ Manual inference completed on {len(test_samples)} samples!\")\n",
    "print(\"🎯 This demonstrates the full inference pipeline\")"
   ]
  },
  {
   "cell_type": "markdown",
   "id": "b69606ea",
   "metadata": {},
   "source": [
    "This final score gives you a reliable estimate of how well your model will perform in a real-world scenario on new genomic data."
   ]
  },
  {
   "cell_type": "markdown",
   "id": "a1e94569",
   "metadata": {},
   "source": [
    "### 4. Deployment Concepts: Serving Your Model\n",
    "\n",
    "A trained model in a notebook is great for research, but for real-world applications, you'll want to **deploy** it as a service. This typically means wrapping it in a web API. A popular choice for this is **FastAPI**.\n",
    "\n",
    "The concept is simple:\n",
    "1.  **Create a FastAPI App**: A simple Python script that defines API endpoints.\n",
    "2.  **Load the Model**: In the app's startup logic, you would load your fine-tuned model and tokenizer once (e.g., using the `ModelHub` or the manual method).\n",
    "3.  **Define a Prediction Endpoint**: Create an endpoint (e.g., `/predict`) that accepts a DNA sequence as input.\n",
    "4.  **Process and Predict**: Inside the endpoint function, you would call the model's inference method with the input sequence and return the prediction as a JSON response.\n",
    "\n",
    "While a full deployment tutorial is beyond our current scope, the `ModelHub` API is designed to make this transition as smooth as possible.\n",
    "\n",
    "### Summary and Conclusion\n",
    "\n",
    "This tutorial marks the end of our journey from a biological question to a fully trained and evaluated model. We have covered the complete lifecycle: data preparation, model initialization, training, and now, inference.\n",
    "\n",
    "You have learned how to:\n",
    "-   Understand the end-to-end inference pipeline.\n",
    "-   Use the high-level `ModelHub` for quick and easy predictions.\n",
    "-   Perform manual inference for greater control and batch processing.\n",
    "-   Evaluate the final model on a test set to get a definitive performance metric.\n",
    "-   Conceptualize how to deploy your model as a service.\n",
    "\n",
    "You are now equipped with the fundamental skills to tackle your own genomic prediction tasks using `OmniGenBench`. You can return to the main tutorial or explore the other examples in the repository to learn about different tasks and models. Happy modeling!"
   ]
  },
  {
   "cell_type": "markdown",
   "id": "84b65068",
   "metadata": {},
   "source": []
  }
 ],
 "metadata": {
  "kernelspec": {
   "display_name": "Python 3 (ipykernel)",
   "language": "python",
   "name": "python3"
  },
  "language_info": {
   "codemirror_mode": {
    "name": "ipython",
    "version": 3
   },
   "file_extension": ".py",
   "mimetype": "text/x-python",
   "name": "python",
   "nbconvert_exporter": "python",
   "pygments_lexer": "ipython3",
   "version": "3.11.5"
  }
 },
 "nbformat": 4,
 "nbformat_minor": 5
}
